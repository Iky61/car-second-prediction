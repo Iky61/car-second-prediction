{
 "cells": [
  {
   "cell_type": "code",
   "execution_count": 1,
   "metadata": {
    "_cell_guid": "b1076dfc-b9ad-4769-8c92-a6c4dae69d19",
    "_uuid": "8f2839f25d086af736a60e9eeb907d3b93b6e0e5",
    "tags": []
   },
   "outputs": [],
   "source": [
    "import numpy as np # linear algebra\n",
    "import pandas as pd # data processing\n",
    "import matplotlib.pyplot as plt # library for visualization\n",
    "import seaborn as sns # library for visualization\n",
    "import warnings\n",
    "from tqdm import tqdm\n",
    "import time\n",
    "import os\n",
    "\n",
    "warnings.filterwarnings('ignore')\n",
    "# pd.set_option('display.max_columns', None)\n",
    "sns.set_palette('Spectral')\n",
    "sns.set_context('notebook', font_scale=1)\n",
    "sns.set_style('whitegrid')"
   ]
  },
  {
   "cell_type": "markdown",
   "metadata": {
    "tags": []
   },
   "source": [
    "# Commits Status"
   ]
  },
  {
   "cell_type": "markdown",
   "metadata": {
    "tags": []
   },
   "source": [
    "- commit 1, date 15.11.23 \"first commint\"\n",
    "- commit 2, date 15.11.23 \"menambahkan latar belakang\"\n",
    "- commit 3, date 15.11.23 \"coba untuk tambahkan feature harga beli mobil menggunakan dataset other. namun hasilnya belum memuaskan, masih terlalu banyak yang kosong\""
   ]
  },
  {
   "cell_type": "markdown",
   "metadata": {
    "tags": []
   },
   "source": [
    "# Latar Belakang\n",
    "\n",
    "Belakangan ini, kantor pemerintahan mengadakan anggaran untuk penyewaan kendaraan roda 4. Hal tersebut membuat pihak penyedia perlu untuk menhitung profitable dalam usaha ini. Mereka perlu mendapatkan gambaran harga jual mobil bekas ketika 5 tahun kemudian. Sebagai Data Saintis kita perlu membuat model prediksi yang akurat untuk membantu keputusan investasi kendaraan roda 4."
   ]
  },
  {
   "cell_type": "markdown",
   "metadata": {
    "jp-MarkdownHeadingCollapsed": true,
    "tags": []
   },
   "source": [
    "# ETL "
   ]
  },
  {
   "cell_type": "markdown",
   "metadata": {
    "tags": []
   },
   "source": [
    "## E : Extracting Data"
   ]
  },
  {
   "cell_type": "code",
   "execution_count": 2,
   "metadata": {},
   "outputs": [],
   "source": [
    "# read train and test data\n",
    "train=pd.read_csv('./datasets/train data/train-data.csv', index_col='Unnamed: 0')\n",
    "test=pd.read_csv('./datasets/test data/test-data.csv', index_col='Unnamed: 0')\n",
    "df_cars=pd.read_csv('./datasets/others data/car_data.csv', index_col='Unnamed: 0')\n",
    "df_cars.reset_index(drop=True, inplace=True)\n",
    "df_cars=df_cars[df_cars.Price!='Not Priced']\n",
    "df_cars=df_cars[df_cars.Year>2000]"
   ]
  },
  {
   "cell_type": "markdown",
   "metadata": {
    "tags": []
   },
   "source": [
    "## T : Transforming Data"
   ]
  },
  {
   "cell_type": "code",
   "execution_count": 3,
   "metadata": {},
   "outputs": [],
   "source": [
    "train.drop(columns=['New_Price'], inplace=True)\n",
    "test.drop(columns=['New_Price'], inplace=True)"
   ]
  },
  {
   "cell_type": "code",
   "execution_count": 4,
   "metadata": {},
   "outputs": [],
   "source": [
    "# transforming train cols name\n",
    "new_cols=[]\n",
    "for x in train.columns:\n",
    "    name='_'.join(x.lower().split())\n",
    "    new_cols.append(name)\n",
    "    \n",
    "train.columns=new_cols"
   ]
  },
  {
   "cell_type": "code",
   "execution_count": 5,
   "metadata": {},
   "outputs": [],
   "source": [
    "# transforming test cols name\n",
    "new_cols=[]\n",
    "for x in test.columns:\n",
    "    name='_'.join(x.lower().split())\n",
    "    new_cols.append(name)\n",
    "    \n",
    "test.columns=new_cols"
   ]
  },
  {
   "cell_type": "code",
   "execution_count": 6,
   "metadata": {},
   "outputs": [],
   "source": [
    "# transforming test cols name\n",
    "new_cols=[]\n",
    "for x in df_cars.columns:\n",
    "    name='_'.join(x.lower().split())\n",
    "    new_cols.append(name)\n",
    "    \n",
    "df_cars.columns=new_cols"
   ]
  },
  {
   "cell_type": "code",
   "execution_count": 7,
   "metadata": {},
   "outputs": [],
   "source": [
    "# transforming dataset cars\n",
    "df_cars['price']=df_cars.price.apply(lambda x: ''.join(x.split('$')[-1].split(',')))\n",
    "df_cars['price']=df_cars.price.astype(float)\n",
    "df_cars=df_cars.groupby(['model'])[['price']].mean().reset_index().sort_values('price', ascending=False)\n",
    "df_cars.reset_index(drop=True, inplace=True)"
   ]
  },
  {
   "cell_type": "code",
   "execution_count": null,
   "metadata": {},
   "outputs": [],
   "source": []
  },
  {
   "cell_type": "code",
   "execution_count": 8,
   "metadata": {},
   "outputs": [],
   "source": [
    "train['status']='train'\n",
    "test['status']='test'\n",
    "\n",
    "# create new dataframe as df are concat from train dataframe and testing dataframe\n",
    "df=pd.concat([train, test], axis=0)\n",
    "df=df.rename(columns={'price':'price_second'})\n",
    "df['text']=df.year.apply(lambda x: str(x) + ' ') + df.name.apply(lambda x: str(x))"
   ]
  },
  {
   "cell_type": "code",
   "execution_count": null,
   "metadata": {},
   "outputs": [],
   "source": []
  },
  {
   "cell_type": "code",
   "execution_count": null,
   "metadata": {},
   "outputs": [],
   "source": []
  },
  {
   "cell_type": "code",
   "execution_count": 9,
   "metadata": {},
   "outputs": [],
   "source": [
    "from sklearn.feature_extraction.text import TfidfVectorizer\n",
    "from sklearn.metrics.pairwise import cosine_similarity"
   ]
  },
  {
   "cell_type": "code",
   "execution_count": 10,
   "metadata": {},
   "outputs": [],
   "source": [
    "# Data SKU (Product Catalog)\n",
    "df_sku = df_cars.copy()\n",
    "\n",
    "# Data Transaksi POS\n",
    "df_pos = df[['text']].copy()\n",
    "\n",
    "# Membangun model TF-IDF\n",
    "tfidf_vectorizer = TfidfVectorizer()\n",
    "tfidf_matrix = tfidf_vectorizer.fit_transform(df_sku['model'])\n",
    "\n",
    "# Menghitung cosine similarity antara nama produk dari transaksi POS dan SKU produk\n",
    "cosine_similarities = cosine_similarity(tfidf_vectorizer.transform(df_pos['text']), tfidf_matrix)\n",
    "\n",
    "# Menentukan threshold similarity score untuk mengidentifikasi produk baru\n",
    "threshold = 0.94  # Sesuaikan dengan threshold yang sesuai\n",
    "\n",
    "# Mendapatkan SKU terbaik untuk setiap produk POS\n",
    "best_sku_indexes = cosine_similarities.argmax(axis=1)\n",
    "best_similarity_scores = cosine_similarities.max(axis=1)\n",
    "\n",
    "# Menambahkan SKU, Brand, dan Type ke dataframe transaksi POS\n",
    "df_pos['price'] = df_sku['price'].iloc[best_sku_indexes].values\n",
    "df_pos['predict'] = df_sku['model'].iloc[best_sku_indexes].values\n",
    "\n",
    "# Menandai produk baru jika similarity score di bawah threshold\n",
    "df_pos['new_product'] = best_similarity_scores < threshold\n",
    "\n",
    "df_pos_1=df_pos[df_pos['new_product'] == False]\n",
    "df_pos_2=df_pos[df_pos['new_product'] == True]\n",
    "df_pos_2['price']=np.NaN\n",
    "\n",
    "df_pos=pd.concat([df_pos_1, df_pos_2], axis=0)\n",
    "df_pos=df_pos[['new_product','text','predict','price']]\n",
    "df_pos=df_pos.rename(columns={'predict':'product_similarity'})"
   ]
  },
  {
   "cell_type": "code",
   "execution_count": null,
   "metadata": {},
   "outputs": [],
   "source": []
  },
  {
   "cell_type": "code",
   "execution_count": 11,
   "metadata": {},
   "outputs": [],
   "source": [
    "df=pd.merge(df, df_pos[['text','price']], on='text')\n",
    "df=df[['name','location','year','kilometers_driven','fuel_type','transmission','owner_type','mileage','engine','power','price','price_second','status']]\n",
    "\n",
    "df['price']=df.price * 15501\n",
    "df.price.fillna(0, inplace=True)\n",
    "df['price']=df['price'].astype(int)\n",
    "\n",
    "df['price_second']=df.price_second * 1000000\n",
    "df.price_second.fillna(0, inplace=True)\n",
    "df['price_second']=df['price_second'].astype(int)"
   ]
  },
  {
   "cell_type": "code",
   "execution_count": null,
   "metadata": {},
   "outputs": [],
   "source": []
  },
  {
   "cell_type": "code",
   "execution_count": 12,
   "metadata": {},
   "outputs": [],
   "source": [
    "train=df[df.status=='train']\n",
    "test=df[df.status=='test']"
   ]
  },
  {
   "cell_type": "code",
   "execution_count": null,
   "metadata": {},
   "outputs": [],
   "source": []
  },
  {
   "cell_type": "code",
   "execution_count": 18,
   "metadata": {},
   "outputs": [],
   "source": [
    "def get_zero_value(x):\n",
    "    if x == 0:\n",
    "        msg=np.NaN\n",
    "    else:\n",
    "        msg=x\n",
    "    return msg"
   ]
  },
  {
   "cell_type": "code",
   "execution_count": 20,
   "metadata": {},
   "outputs": [],
   "source": [
    "train['price']=train['price'].apply(get_zero_value)\n",
    "train['price_second']=train['price_second'].apply(get_zero_value)\n",
    "\n",
    "test['price']=test['price'].apply(get_zero_value)\n",
    "test['price_second']=test['price_second'].apply(get_zero_value)"
   ]
  },
  {
   "cell_type": "code",
   "execution_count": null,
   "metadata": {},
   "outputs": [],
   "source": []
  },
  {
   "cell_type": "code",
   "execution_count": 26,
   "metadata": {},
   "outputs": [
    {
     "data": {
      "text/plain": [
       "name                  0.000000\n",
       "location              0.000000\n",
       "year                  0.000000\n",
       "kilometers_driven     0.000000\n",
       "fuel_type             0.000000\n",
       "transmission          0.000000\n",
       "owner_type            0.000000\n",
       "mileage               0.011695\n",
       "engine                0.315771\n",
       "power                 0.315771\n",
       "price                99.514648\n",
       "price_second          0.000000\n",
       "status                0.000000\n",
       "dtype: float64"
      ]
     },
     "execution_count": 26,
     "metadata": {},
     "output_type": "execute_result"
    }
   ],
   "source": [
    "(train.isna().sum() / len(train)) * 100"
   ]
  },
  {
   "cell_type": "code",
   "execution_count": 27,
   "metadata": {},
   "outputs": [
    {
     "data": {
      "text/plain": [
       "name                   0.000000\n",
       "location               0.000000\n",
       "year                   0.000000\n",
       "kilometers_driven      0.000000\n",
       "fuel_type              0.000000\n",
       "transmission           0.000000\n",
       "owner_type             0.000000\n",
       "mileage                0.000000\n",
       "engine                 0.432526\n",
       "power                  0.432526\n",
       "price                 99.106113\n",
       "price_second         100.000000\n",
       "status                 0.000000\n",
       "dtype: float64"
      ]
     },
     "execution_count": 27,
     "metadata": {},
     "output_type": "execute_result"
    }
   ],
   "source": [
    "(test.isna().sum() / len(test)) * 100"
   ]
  },
  {
   "cell_type": "code",
   "execution_count": null,
   "metadata": {},
   "outputs": [],
   "source": []
  },
  {
   "cell_type": "code",
   "execution_count": null,
   "metadata": {},
   "outputs": [],
   "source": []
  },
  {
   "cell_type": "code",
   "execution_count": null,
   "metadata": {},
   "outputs": [],
   "source": []
  },
  {
   "cell_type": "code",
   "execution_count": null,
   "metadata": {},
   "outputs": [],
   "source": []
  },
  {
   "cell_type": "markdown",
   "metadata": {
    "tags": []
   },
   "source": [
    "## L : Loading Data"
   ]
  },
  {
   "cell_type": "code",
   "execution_count": null,
   "metadata": {},
   "outputs": [],
   "source": []
  },
  {
   "cell_type": "code",
   "execution_count": null,
   "metadata": {},
   "outputs": [],
   "source": []
  }
 ],
 "metadata": {
  "kernelspec": {
   "display_name": "Python 3 (ipykernel)",
   "language": "python",
   "name": "python3"
  },
  "language_info": {
   "codemirror_mode": {
    "name": "ipython",
    "version": 3
   },
   "file_extension": ".py",
   "mimetype": "text/x-python",
   "name": "python",
   "nbconvert_exporter": "python",
   "pygments_lexer": "ipython3",
   "version": "3.11.0"
  }
 },
 "nbformat": 4,
 "nbformat_minor": 4
}
