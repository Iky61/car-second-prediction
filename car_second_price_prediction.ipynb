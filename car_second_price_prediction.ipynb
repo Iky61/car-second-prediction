{
 "cells": [
  {
   "cell_type": "code",
   "execution_count": 3,
   "metadata": {
    "_cell_guid": "b1076dfc-b9ad-4769-8c92-a6c4dae69d19",
    "_uuid": "8f2839f25d086af736a60e9eeb907d3b93b6e0e5",
    "tags": []
   },
   "outputs": [],
   "source": [
    "import numpy as np # linear algebra\n",
    "import pandas as pd # data processing\n",
    "import matplotlib.pyplot as plt # library for visualization\n",
    "import seaborn as sns # library for visualization\n",
    "import warnings\n",
    "from tqdm import tqdm\n",
    "import time\n",
    "import os\n",
    "\n",
    "warnings.filterwarnings('ignore')\n",
    "# pd.set_option('display.max_columns', None)\n",
    "sns.set_palette('Spectral')\n",
    "sns.set_context('notebook', font_scale=1)\n",
    "sns.set_style('whitegrid')"
   ]
  },
  {
   "cell_type": "markdown",
   "metadata": {
    "jp-MarkdownHeadingCollapsed": true,
    "tags": []
   },
   "source": [
    "# Commits Status"
   ]
  },
  {
   "cell_type": "markdown",
   "metadata": {
    "tags": []
   },
   "source": [
    "- commit 1, date 15.11.23 \"first commint\"\n",
    "- commit 2, date 15.11.23 \"menambahkan latar belakang\"\n",
    "- commit 3, date 15.11.23 \"coba untuk tambahkan feature harga beli mobil menggunakan dataset other. namun hasilnya belum memuaskan, masih terlalu banyak yang kosong\"\n",
    "- commit 4, date 16.11.23 \"ganti datasets yang lebih relevan\"\n",
    "- commit 5, date 16.11.23 \"adding function to set price drop and convert to km\"\n",
    "- commit 6, date 17.11.23 \"Add interpretation to the shown correlation results and data taken only with secondhand status.\"\n",
    "- commit 7, date 17.11.23 \"testing pull/push after conflict\""
   ]
  },
  {
   "cell_type": "markdown",
   "metadata": {
    "tags": []
   },
   "source": [
    "# Latar Belakang\n",
    "\n",
    "Belakangan ini, kantor pemerintahan mengadakan anggaran untuk penyewaan kendaraan roda 4. Hal tersebut membuat pihak penyedia perlu untuk menhitung profitable dalam usaha ini. Mereka perlu mendapatkan gambaran harga jual mobil bekas ketika 5 tahun kemudian. Sebagai Data Saintis kita perlu membuat model prediksi yang akurat untuk membantu keputusan investasi kendaraan roda 4."
   ]
  },
  {
   "cell_type": "markdown",
   "metadata": {
    "tags": []
   },
   "source": [
    "# ETL "
   ]
  },
  {
   "cell_type": "markdown",
   "metadata": {
    "tags": []
   },
   "source": [
    "## E : Extracting Data"
   ]
  },
  {
   "cell_type": "code",
   "execution_count": 4,
   "metadata": {},
   "outputs": [],
   "source": [
    "# read train and test data\n",
    "df=pd.read_csv('./datasets/others data/car_data.csv', index_col='Unnamed: 0')"
   ]
  },
  {
   "cell_type": "markdown",
   "metadata": {
    "tags": []
   },
   "source": [
    "## T : Transforming Data"
   ]
  },
  {
   "cell_type": "code",
   "execution_count": 5,
   "metadata": {},
   "outputs": [],
   "source": [
    "# transforming test cols name\n",
    "new_cols=[]\n",
    "for x in df.columns:\n",
    "    name='_'.join(x.lower().split())\n",
    "    new_cols.append(name)\n",
    "    \n",
    "df.columns=new_cols"
   ]
  },
  {
   "cell_type": "code",
   "execution_count": 6,
   "metadata": {},
   "outputs": [],
   "source": [
    "# transforming dataset cars\n",
    "df['price']=df.price.apply(lambda x: ''.join(x.split('$')[-1].split(',')))\n",
    "df=df[df.price!='Not Priced']\n",
    "df['price']=df.price.astype(float)\n",
    "df['price']=df['price'] * 15000"
   ]
  },
  {
   "cell_type": "code",
   "execution_count": 7,
   "metadata": {},
   "outputs": [],
   "source": [
    "# retext model without years in the sentence\n",
    "df['model']=df['model'].apply(lambda x: ' '.join(x.split()[1:]))"
   ]
  },
  {
   "cell_type": "code",
   "execution_count": 8,
   "metadata": {},
   "outputs": [],
   "source": [
    "# create brand from the first word in model feature\n",
    "df['brand']=df.model.apply(lambda x: x.split()[0])"
   ]
  },
  {
   "cell_type": "code",
   "execution_count": 9,
   "metadata": {},
   "outputs": [],
   "source": [
    "# create function to classification condition car by status\n",
    "def get_condition_car(x):\n",
    "    if x == 'New':\n",
    "        msg = 'New'\n",
    "    elif x == 'Used':\n",
    "        msg = 'Secondhand'\n",
    "    else:\n",
    "        msg = 'Factory Re-Sell'\n",
    "    return msg\n",
    "\n",
    "# apply the function\n",
    "df['condition']=df.status.apply(get_condition_car)\n",
    "df=df[['brand','model','year','status','condition','mileage','price','msrp']]"
   ]
  },
  {
   "cell_type": "code",
   "execution_count": 10,
   "metadata": {},
   "outputs": [],
   "source": [
    "# create function to set price drop by msrp\n",
    "def get_price_drop(x):\n",
    "    if x == 'Not specified':\n",
    "        hasil = 0\n",
    "    else:\n",
    "        hasil = ''.join(filter(str.isdigit, x))\n",
    "    return hasil\n",
    "\n",
    "df['price drop'] = df['msrp'].apply(get_price_drop)\n",
    "df['price drop'] = df['price drop'].astype(float)\n",
    "df['price drop']=df['price drop'] * 15000"
   ]
  },
  {
   "cell_type": "code",
   "execution_count": 11,
   "metadata": {},
   "outputs": [],
   "source": [
    "# create function to convert milleage to km\n",
    "def get_km(x):\n",
    "    if x == 'Not available':\n",
    "        hasil = 0\n",
    "    else:\n",
    "        hasil = ''.join(filter(str.isdigit, x))\n",
    "    return hasil\n",
    "\n",
    "df['in km'] = df['mileage'].apply(get_km)\n",
    "df['in km'] = df['in km'].astype(float)\n",
    "\n",
    "# convert mil to km\n",
    "km = 1.6\n",
    "df['in km'] = df['in km'] * km"
   ]
  },
  {
   "cell_type": "code",
   "execution_count": 12,
   "metadata": {},
   "outputs": [],
   "source": [
    "# get the data is not a new car\n",
    "df=df[df.condition=='Secondhand']\n",
    "df.reset_index(drop=True, inplace=True)\n",
    "\n",
    "# geting price second and percentase of price drop\n",
    "df['price second']=df.price - df['price drop']\n",
    "df['percent drop']=np.round((df['price drop']/df['price'])*100, 2)\n",
    "df=df[['brand','model','year','condition','in km','price','percent drop','price drop','price second']]\n",
    "df=df[df['price drop']>0]"
   ]
  },
  {
   "cell_type": "markdown",
   "metadata": {
    "tags": []
   },
   "source": [
    "## L : Loading Data"
   ]
  },
  {
   "cell_type": "markdown",
   "metadata": {
    "tags": []
   },
   "source": [
    "# Exploratory Data Analyst"
   ]
  },
  {
   "cell_type": "code",
   "execution_count": 13,
   "metadata": {},
   "outputs": [
    {
     "data": {
      "image/png": "[encoded data removed]",
      "text/plain": [
       "<Figure size 1080x648 with 6 Axes>"
      ]
     },
     "metadata": {},
     "output_type": "display_data"
    }
   ],
   "source": [
    "df.hist(figsize=(15,9))\n",
    "plt.tight_layout()\n",
    "plt.show()"
   ]
  },
  {
   "cell_type": "code",
   "execution_count": 14,
   "metadata": {},
   "outputs": [
    {
     "data": {
      "image/png": "[encoded data removed]",
      "text/plain": [
       "<Figure size 684x360 with 2 Axes>"
      ]
     },
     "metadata": {},
     "output_type": "display_data"
    }
   ],
   "source": [
    "corr=df[['year','in km','price','price drop','percent drop','price second']].corr()\n",
    "\n",
    "plt.figure(figsize=(9.5,5))\n",
    "plt.title('Correlation Score', fontsize=20, pad=15)\n",
    "sns.heatmap(corr, annot=True)\n",
    "plt.yticks(rotation=0)\n",
    "plt.tight_layout()\n",
    "plt.show()"
   ]
  },
  {
   "cell_type": "markdown",
   "metadata": {
    "jp-MarkdownHeadingCollapsed": true,
    "tags": []
   },
   "source": [
    "**Positive Correlation**\n",
    "\n",
    "1. **(Price Second)** and **(Price Drop)** have a correlation value of **0.41**. This condition suggests that the more expensive the initial Price of the purchased car **(Price)**, the larger the drop in **(Price Drop)** when resold. This is supported by observing the correlation score between **(Price)** and **(Price Drop)** which is **0.46**.\n",
    "2. **(Price Second)** and **(Price)** have a correlation value of **1**. From this information, it suggests that the avg of percentage decrease in price is very low, resulting in a correlation value between **(Price Second)** and **(Price)** equal to **1**.\n",
    "3. **(Price Second)** and **(Year)** have a correlation value of **0.27**. The correlation value is low, but it suggests that when the car is from a newer era, the secondary price tends to be higher compared to cars from an older era.\n",
    "    \n",
    "    \n",
    "**Negative Correlation**\n",
    "\n",
    "1. **(Price Second)** and **(in Km)** have a correlation value of **0.46**. From the inverse correlation score, it provides information that the farther the mileage of the car, the lower the resale price of the car."
   ]
  },
  {
   "cell_type": "code",
   "execution_count": 15,
   "metadata": {},
   "outputs": [
    {
     "data": {
      "text/html": [
       "<div>\n",
       "<style scoped>\n",
       "    .dataframe tbody tr th:only-of-type {\n",
       "        vertical-align: middle;\n",
       "    }\n",
       "\n",
       "    .dataframe tbody tr th {\n",
       "        vertical-align: top;\n",
       "    }\n",
       "\n",
       "    .dataframe thead th {\n",
       "        text-align: right;\n",
       "    }\n",
       "</style>\n",
       "<table border=\"1\" class=\"dataframe\">\n",
       "  <thead>\n",
       "    <tr style=\"text-align: right;\">\n",
       "      <th></th>\n",
       "      <th>brand</th>\n",
       "      <th>model</th>\n",
       "      <th>year</th>\n",
       "      <th>condition</th>\n",
       "      <th>in km</th>\n",
       "      <th>price</th>\n",
       "      <th>percent drop</th>\n",
       "      <th>price drop</th>\n",
       "      <th>price second</th>\n",
       "    </tr>\n",
       "  </thead>\n",
       "  <tbody>\n",
       "    <tr>\n",
       "      <th>0</th>\n",
       "      <td>Acura</td>\n",
       "      <td>Acura MDX Sport Hybrid 3.0L w/Technology Package</td>\n",
       "      <td>2019</td>\n",
       "      <td>Secondhand</td>\n",
       "      <td>52280.0</td>\n",
       "      <td>614850000.0</td>\n",
       "      <td>1.46</td>\n",
       "      <td>9000000.0</td>\n",
       "      <td>605850000.0</td>\n",
       "    </tr>\n",
       "    <tr>\n",
       "      <th>6</th>\n",
       "      <td>Acura</td>\n",
       "      <td>Acura RDX Base</td>\n",
       "      <td>2016</td>\n",
       "      <td>Secondhand</td>\n",
       "      <td>107555.2</td>\n",
       "      <td>314220000.0</td>\n",
       "      <td>5.02</td>\n",
       "      <td>15780000.0</td>\n",
       "      <td>298440000.0</td>\n",
       "    </tr>\n",
       "    <tr>\n",
       "      <th>14</th>\n",
       "      <td>Acura</td>\n",
       "      <td>Acura ILX Premium Package</td>\n",
       "      <td>2019</td>\n",
       "      <td>Secondhand</td>\n",
       "      <td>81860.8</td>\n",
       "      <td>348225000.0</td>\n",
       "      <td>3.21</td>\n",
       "      <td>11190000.0</td>\n",
       "      <td>337035000.0</td>\n",
       "    </tr>\n",
       "    <tr>\n",
       "      <th>15</th>\n",
       "      <td>Acura</td>\n",
       "      <td>Acura MDX 3.5L w/Advance Package</td>\n",
       "      <td>2018</td>\n",
       "      <td>Secondhand</td>\n",
       "      <td>141376.0</td>\n",
       "      <td>374925000.0</td>\n",
       "      <td>8.27</td>\n",
       "      <td>31020000.0</td>\n",
       "      <td>343905000.0</td>\n",
       "    </tr>\n",
       "    <tr>\n",
       "      <th>19</th>\n",
       "      <td>Acura</td>\n",
       "      <td>Acura RDX A-Spec</td>\n",
       "      <td>2021</td>\n",
       "      <td>Secondhand</td>\n",
       "      <td>64819.2</td>\n",
       "      <td>588465000.0</td>\n",
       "      <td>1.27</td>\n",
       "      <td>7485000.0</td>\n",
       "      <td>580980000.0</td>\n",
       "    </tr>\n",
       "  </tbody>\n",
       "</table>\n",
       "</div>"
      ],
      "text/plain": [
       "    brand                                             model  year   condition  \\\n",
       "0   Acura  Acura MDX Sport Hybrid 3.0L w/Technology Package  2019  Secondhand   \n",
       "6   Acura                                    Acura RDX Base  2016  Secondhand   \n",
       "14  Acura                         Acura ILX Premium Package  2019  Secondhand   \n",
       "15  Acura                  Acura MDX 3.5L w/Advance Package  2018  Secondhand   \n",
       "19  Acura                                  Acura RDX A-Spec  2021  Secondhand   \n",
       "\n",
       "       in km        price  percent drop  price drop  price second  \n",
       "0    52280.0  614850000.0          1.46   9000000.0   605850000.0  \n",
       "6   107555.2  314220000.0          5.02  15780000.0   298440000.0  \n",
       "14   81860.8  348225000.0          3.21  11190000.0   337035000.0  \n",
       "15  141376.0  374925000.0          8.27  31020000.0   343905000.0  \n",
       "19   64819.2  588465000.0          1.27   7485000.0   580980000.0  "
      ]
     },
     "execution_count": 15,
     "metadata": {},
     "output_type": "execute_result"
    }
   ],
   "source": [
    "df.head()"
   ]
  },
  {
   "cell_type": "code",
   "execution_count": null,
   "metadata": {},
   "outputs": [],
   "source": []
  },
  {
   "cell_type": "code",
   "execution_count": null,
   "metadata": {},
   "outputs": [],
   "source": []
  }
 ],
 "metadata": {
  "kernelspec": {
   "display_name": "Python 3 (ipykernel)",
   "language": "python",
   "name": "python3"
  },
  "language_info": {
   "codemirror_mode": {
    "name": "ipython",
    "version": 3
   },
   "file_extension": ".py",
   "mimetype": "text/x-python",
   "name": "python",
   "nbconvert_exporter": "python",
   "pygments_lexer": "ipython3",
   "version": "3.9.12"
  }
 },
 "nbformat": 4,
 "nbformat_minor": 4
}
