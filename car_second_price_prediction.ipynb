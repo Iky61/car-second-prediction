{
 "cells": [
  {
   "cell_type": "code",
   "execution_count": 1,
   "metadata": {
    "_cell_guid": "b1076dfc-b9ad-4769-8c92-a6c4dae69d19",
    "_uuid": "8f2839f25d086af736a60e9eeb907d3b93b6e0e5",
    "tags": []
   },
   "outputs": [],
   "source": [
    "import numpy as np # linear algebra\n",
    "import pandas as pd # data processing\n",
    "import matplotlib.pyplot as plt # library for visualization\n",
    "import seaborn as sns # library for visualization\n",
    "import warnings\n",
    "from tqdm import tqdm\n",
    "import time\n",
    "import os\n",
    "\n",
    "warnings.filterwarnings('ignore')\n",
    "# pd.set_option('display.max_columns', None)\n",
    "sns.set_palette('Spectral')\n",
    "sns.set_context('notebook', font_scale=1)\n",
    "sns.set_style('whitegrid')"
   ]
  },
  {
   "cell_type": "markdown",
   "metadata": {
    "jp-MarkdownHeadingCollapsed": true,
    "tags": []
   },
   "source": [
    "# Commits Status"
   ]
  },
  {
   "cell_type": "markdown",
   "metadata": {
    "tags": []
   },
   "source": [
    "- commit 1, date 15.11.23 \"first commint\"\n",
    "- commit 2, date 15.11.23 \"menambahkan latar belakang\"\n",
    "- commit 3, date 15.11.23 \"coba untuk tambahkan feature harga beli mobil menggunakan dataset other. namun hasilnya belum memuaskan, masih terlalu banyak yang kosong\""
   ]
  },
  {
   "cell_type": "markdown",
   "metadata": {
    "tags": []
   },
   "source": [
    "# Latar Belakang\n",
    "\n",
    "Belakangan ini, kantor pemerintahan mengadakan anggaran untuk penyewaan kendaraan roda 4. Hal tersebut membuat pihak penyedia perlu untuk menhitung profitable dalam usaha ini. Mereka perlu mendapatkan gambaran harga jual mobil bekas ketika 5 tahun kemudian. Sebagai Data Saintis kita perlu membuat model prediksi yang akurat untuk membantu keputusan investasi kendaraan roda 4."
   ]
  },
  {
   "cell_type": "markdown",
   "metadata": {
    "jp-MarkdownHeadingCollapsed": true,
    "tags": []
   },
   "source": [
    "# ETL "
   ]
  },
  {
   "cell_type": "markdown",
   "metadata": {
    "tags": []
   },
   "source": [
    "## E : Extracting Data"
   ]
  },
  {
   "cell_type": "code",
   "execution_count": 2,
   "metadata": {},
   "outputs": [],
   "source": [
    "# read train and test data\n",
    "df=pd.read_csv('./datasets/others data/car_data.csv', index_col='Unnamed: 0')"
   ]
  },
  {
   "cell_type": "markdown",
   "metadata": {
    "tags": []
   },
   "source": [
    "## T : Transforming Data"
   ]
  },
  {
   "cell_type": "code",
   "execution_count": 3,
   "metadata": {},
   "outputs": [],
   "source": [
    "# transforming test cols name\n",
    "new_cols=[]\n",
    "for x in df.columns:\n",
    "    name='_'.join(x.lower().split())\n",
    "    new_cols.append(name)\n",
    "    \n",
    "df.columns=new_cols"
   ]
  },
  {
   "cell_type": "code",
   "execution_count": 6,
   "metadata": {},
   "outputs": [],
   "source": [
    "# transforming dataset cars\n",
    "df['price']=df.price.apply(lambda x: ''.join(x.split('$')[-1].split(',')))\n",
    "df=df[df.price!='Not Priced']\n",
    "df['price']=df.price.astype(float)"
   ]
  },
  {
   "cell_type": "markdown",
   "metadata": {
    "jp-MarkdownHeadingCollapsed": true,
    "tags": []
   },
   "source": [
    "## L : Loading Data"
   ]
  },
  {
   "cell_type": "code",
   "execution_count": null,
   "metadata": {},
   "outputs": [],
   "source": []
  },
  {
   "cell_type": "markdown",
   "metadata": {},
   "source": [
    "# Exploratory Data Analyst"
   ]
  },
  {
   "cell_type": "code",
   "execution_count": 10,
   "metadata": {},
   "outputs": [
    {
     "data": {
      "image/png": "[encoded data removed]",
      "text/plain": [
       "<Figure size 1500x500 with 2 Axes>"
      ]
     },
     "metadata": {},
     "output_type": "display_data"
    }
   ],
   "source": [
    "df.hist(figsize=(15,5))\n",
    "plt.tight_layout()\n",
    "plt.show()"
   ]
  },
  {
   "cell_type": "code",
   "execution_count": 22,
   "metadata": {},
   "outputs": [],
   "source": [
    "categorical=df.select_dtypes('object').columns.tolist()\n",
    "numerical=df.select_dtypes('number').columns.tolist()"
   ]
  },
  {
   "cell_type": "code",
   "execution_count": null,
   "metadata": {},
   "outputs": [],
   "source": []
  },
  {
   "cell_type": "code",
   "execution_count": null,
   "metadata": {},
   "outputs": [],
   "source": []
  },
  {
   "cell_type": "code",
   "execution_count": null,
   "metadata": {},
   "outputs": [],
   "source": []
  },
  {
   "cell_type": "code",
   "execution_count": null,
   "metadata": {},
   "outputs": [],
   "source": []
  }
 ],
 "metadata": {
  "kernelspec": {
   "display_name": "Python 3 (ipykernel)",
   "language": "python",
   "name": "python3"
  },
  "language_info": {
   "codemirror_mode": {
    "name": "ipython",
    "version": 3
   },
   "file_extension": ".py",
   "mimetype": "text/x-python",
   "name": "python",
   "nbconvert_exporter": "python",
   "pygments_lexer": "ipython3",
   "version": "3.11.0"
  }
 },
 "nbformat": 4,
 "nbformat_minor": 4
}
